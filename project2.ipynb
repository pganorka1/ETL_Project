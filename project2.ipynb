{
 "cells": [
  {
   "cell_type": "markdown",
   "metadata": {},
   "source": [
    "# ETL Project Name: Boston Airbnb market analysis\n",
    "Primary independent variable: Price of the listing \n",
    "Other dependent variables: availability, review, location, host since, response time, host acceptance rate, no. of host listing\n",
    "Plots \n",
    "Prices vs review (How to categorize a review as Good, Bad and Neutral?)\n",
    "Price vs host location\n",
    "Price vs host since\n",
    "Price vs host response time\n",
    "Price vs host acceptance rate\n",
    "Price vs No. of host listing\n"
   ]
  },
  {
   "cell_type": "markdown",
   "metadata": {},
   "source": [
    "## Import Packages and Libraries"
   ]
  },
  {
   "cell_type": "code",
   "execution_count": 1,
   "metadata": {},
   "outputs": [],
   "source": [
    "import pandas as pd\n",
    "import matplotlib.pyplot as plt\n",
    "import numpy as np\n",
    "import pymysql\n",
    "pymysql.install_as_MySQLdb()\n",
    "from sqlalchemy import create_engine\n",
    "#from ET_mysql_key import ET_key\n",
    "from IPython.core.interactiveshell import InteractiveShell\n",
    "#InteractiveShell.ast_node_interactivity = \"all\"\n",
    "\n"
   ]
  },
  {
   "cell_type": "markdown",
   "metadata": {},
   "source": [
    "### Import csv files"
   ]
  },
  {
   "cell_type": "code",
   "execution_count": 2,
   "metadata": {},
   "outputs": [],
   "source": [
    "# File to Load\n",
    "\n",
    "# 1.) Listing file had information of each listing in Boston area. \n",
    "#There are 95 columns with listing info, space and features, pictures, availability, price, host reviews, policy etc. \n",
    "listing_data_to_load = \"data/listings.csv\"\n",
    "\n",
    "# 2.) Calender file has availibility of rentals. It has listing_id, date, available (t or f) and price\n",
    "availability_data_to_load = \"data/calendars.csv\"\n",
    "\n",
    "# 3.) Review file contanin information such as listing_id, id, date, reviewer_id, reviewer_name & comments\n",
    "review_data_to_load = \"data/reviews.csv\"\n"
   ]
  },
  {
   "cell_type": "code",
   "execution_count": 88,
   "metadata": {
    "scrolled": true
   },
   "outputs": [
    {
     "data": {
      "text/plain": [
       "Index(['listing_id', 'listing_url', 'scrape_id', 'last_scraped', 'name', 'summary', 'space', 'description', 'experiences_offered', 'neighborhood_overview', 'notes', 'transit', 'access', 'interaction', 'house_rules', 'thumbnail_url', 'medium_url', 'picture_url', 'xl_picture_url', 'host_id', 'host_url', 'host_name', 'host_since', 'host_location', 'host_about', 'host_response_time', 'host_response_rate', 'host_acceptance_rate', 'host_is_superhost', 'host_thumbnail_url', 'host_picture_url', 'host_neighbourhood', 'host_listings_count', 'host_total_listings_count', 'host_verifications', 'host_has_profile_pic', 'host_identity_verified', 'street', 'neighbourhood', 'neighbourhood_cleansed', 'neighbourhood_group_cleansed', 'city', 'state', 'zipcode', 'market', 'smart_location', 'country_code', 'country', 'latitude', 'longitude', 'is_location_exact', 'property_type', 'room_type', 'accommodates', 'bathrooms', 'bedrooms', 'beds', 'bed_type', 'amenities', 'square_feet', 'price', 'weekly_price',\n",
       "       'monthly_price', 'security_deposit', 'cleaning_fee', 'guests_included', 'extra_people', 'minimum_nights', 'maximum_nights', 'calendar_updated', 'has_availability', 'availability_30', 'availability_60', 'availability_90', 'availability_365', 'calendar_last_scraped', 'number_of_reviews', 'first_review', 'last_review', 'review_scores_rating', 'review_scores_accuracy', 'review_scores_cleanliness', 'review_scores_checkin', 'review_scores_communication', 'review_scores_location', 'review_scores_value', 'requires_license', 'license', 'jurisdiction_names', 'instant_bookable', 'cancellation_policy', 'require_guest_profile_picture', 'require_guest_phone_verification', 'calculated_host_listings_count', 'reviews_per_month'],\n",
       "      dtype='object')"
      ]
     },
     "execution_count": 88,
     "metadata": {},
     "output_type": "execute_result"
    }
   ],
   "source": [
    "listing=pd.read_csv(listing_data_to_load)\n",
    "listing.columns"
   ]
  },
  {
   "cell_type": "markdown",
   "metadata": {},
   "source": [
    "## EXTRACTION"
   ]
  },
  {
   "cell_type": "code",
   "execution_count": 3,
   "metadata": {},
   "outputs": [],
   "source": [
    "# Reading files and then storing into Pandas data frame. # Create DataFrames\n",
    "# used pd.read to read & give out DataFrame(or TextParser) for the variables assigned to the pandas DateFrame are\n",
    "#availability_data_to_load & listing_data_to_load & review_data_to_load  "
   ]
  },
  {
   "cell_type": "code",
   "execution_count": 4,
   "metadata": {
    "scrolled": false
   },
   "outputs": [
    {
     "data": {
      "text/html": [
       "<div>\n",
       "<style scoped>\n",
       "    .dataframe tbody tr th:only-of-type {\n",
       "        vertical-align: middle;\n",
       "    }\n",
       "\n",
       "    .dataframe tbody tr th {\n",
       "        vertical-align: top;\n",
       "    }\n",
       "\n",
       "    .dataframe thead th {\n",
       "        text-align: right;\n",
       "    }\n",
       "</style>\n",
       "<table border=\"1\" class=\"dataframe\">\n",
       "  <thead>\n",
       "    <tr style=\"text-align: right;\">\n",
       "      <th></th>\n",
       "      <th>listing_id</th>\n",
       "      <th>listing_url</th>\n",
       "      <th>scrape_id</th>\n",
       "      <th>last_scraped</th>\n",
       "      <th>name</th>\n",
       "      <th>...</th>\n",
       "      <th>cancellation_policy</th>\n",
       "      <th>require_guest_profile_picture</th>\n",
       "      <th>require_guest_phone_verification</th>\n",
       "      <th>calculated_host_listings_count</th>\n",
       "      <th>reviews_per_month</th>\n",
       "    </tr>\n",
       "  </thead>\n",
       "  <tbody>\n",
       "    <tr>\n",
       "      <th>0</th>\n",
       "      <td>12147973</td>\n",
       "      <td>https://www.airbnb.com/rooms/12147973</td>\n",
       "      <td>2.01609e+13</td>\n",
       "      <td>9/7/2016</td>\n",
       "      <td>Sunny Bungalow in the City</td>\n",
       "      <td>...</td>\n",
       "      <td>moderate</td>\n",
       "      <td>f</td>\n",
       "      <td>f</td>\n",
       "      <td>1</td>\n",
       "      <td>NaN</td>\n",
       "    </tr>\n",
       "    <tr>\n",
       "      <th>...</th>\n",
       "      <td>...</td>\n",
       "      <td>...</td>\n",
       "      <td>...</td>\n",
       "      <td>...</td>\n",
       "      <td>...</td>\n",
       "      <td>...</td>\n",
       "      <td>...</td>\n",
       "      <td>...</td>\n",
       "      <td>...</td>\n",
       "      <td>...</td>\n",
       "      <td>...</td>\n",
       "    </tr>\n",
       "    <tr>\n",
       "      <th>3584</th>\n",
       "      <td>14504422</td>\n",
       "      <td>https://www.airbnb.com/rooms/14504422</td>\n",
       "      <td>2.01609e+13</td>\n",
       "      <td>9/7/2016</td>\n",
       "      <td>(K1) Private Room near Harvard/MIT</td>\n",
       "      <td>...</td>\n",
       "      <td>flexible</td>\n",
       "      <td>f</td>\n",
       "      <td>f</td>\n",
       "      <td>3</td>\n",
       "      <td>NaN</td>\n",
       "    </tr>\n",
       "  </tbody>\n",
       "</table>\n",
       "<p>3585 rows × 95 columns</p>\n",
       "</div>"
      ],
      "text/plain": [
       "      listing_id                            listing_url    scrape_id last_scraped  \\\n",
       "0       12147973  https://www.airbnb.com/rooms/12147973  2.01609e+13     9/7/2016   \n",
       "...          ...                                    ...          ...          ...   \n",
       "3584    14504422  https://www.airbnb.com/rooms/14504422  2.01609e+13     9/7/2016   \n",
       "\n",
       "                                    name        ...        cancellation_policy  \\\n",
       "0             Sunny Bungalow in the City        ...                   moderate   \n",
       "...                                  ...        ...                        ...   \n",
       "3584  (K1) Private Room near Harvard/MIT        ...                   flexible   \n",
       "\n",
       "     require_guest_profile_picture require_guest_phone_verification  \\\n",
       "0                                f                                f   \n",
       "...                            ...                              ...   \n",
       "3584                             f                                f   \n",
       "\n",
       "     calculated_host_listings_count reviews_per_month  \n",
       "0                                 1               NaN  \n",
       "...                             ...               ...  \n",
       "3584                              3               NaN  \n",
       "\n",
       "[3585 rows x 95 columns]"
      ]
     },
     "execution_count": 4,
     "metadata": {},
     "output_type": "execute_result"
    }
   ],
   "source": [
    "# Listing data\n",
    "# Show number of row and columns.# Display the data table for preview. Used head() to get the three rows\n",
    "listing_df = pd.read_csv(listing_data_to_load)\n",
    "listing_df.shape\n",
    "pd.set_option('display.max_rows', 3)\n",
    "pd.set_option('display.max_columns', 10)\n",
    "pd.set_option('display.width', 100)\n",
    "pd.set_option('precision', 5)\n",
    "listing_df.style.highlight_null(null_color='red')\n",
    "#lising_df.style\n",
    "listing_df.head(3)\n",
    "listing_df"
   ]
  },
  {
   "cell_type": "code",
   "execution_count": 5,
   "metadata": {
    "scrolled": false
   },
   "outputs": [
    {
     "data": {
      "text/html": [
       "<div>\n",
       "<style scoped>\n",
       "    .dataframe tbody tr th:only-of-type {\n",
       "        vertical-align: middle;\n",
       "    }\n",
       "\n",
       "    .dataframe tbody tr th {\n",
       "        vertical-align: top;\n",
       "    }\n",
       "\n",
       "    .dataframe thead th {\n",
       "        text-align: right;\n",
       "    }\n",
       "</style>\n",
       "<table border=\"1\" class=\"dataframe\">\n",
       "  <thead>\n",
       "    <tr style=\"text-align: right;\">\n",
       "      <th></th>\n",
       "      <th>listing_id</th>\n",
       "      <th>date</th>\n",
       "      <th>available</th>\n",
       "      <th>price</th>\n",
       "    </tr>\n",
       "  </thead>\n",
       "  <tbody>\n",
       "    <tr>\n",
       "      <th>0</th>\n",
       "      <td>12147973</td>\n",
       "      <td>9/5/2017</td>\n",
       "      <td>f</td>\n",
       "      <td>NaN</td>\n",
       "    </tr>\n",
       "    <tr>\n",
       "      <th>...</th>\n",
       "      <td>...</td>\n",
       "      <td>...</td>\n",
       "      <td>...</td>\n",
       "      <td>...</td>\n",
       "    </tr>\n",
       "    <tr>\n",
       "      <th>1048574</th>\n",
       "      <td>5844314</td>\n",
       "      <td>11/15/2016</td>\n",
       "      <td>t</td>\n",
       "      <td>$62.00</td>\n",
       "    </tr>\n",
       "  </tbody>\n",
       "</table>\n",
       "<p>1048575 rows × 4 columns</p>\n",
       "</div>"
      ],
      "text/plain": [
       "         listing_id        date available    price\n",
       "0          12147973    9/5/2017         f      NaN\n",
       "...             ...         ...       ...      ...\n",
       "1048574     5844314  11/15/2016         t  $62.00 \n",
       "\n",
       "[1048575 rows x 4 columns]"
      ]
     },
     "execution_count": 5,
     "metadata": {},
     "output_type": "execute_result"
    }
   ],
   "source": [
    "# Availability data.\n",
    "# Show number of row and columns.# Display the data table for preview. Used head() to get the three rows\n",
    "availability_df = pd.read_csv(availability_data_to_load)\n",
    "availability_df.shape\n",
    "#pd.set_option('display.max_rows', 3)\n",
    "#pd.set_option('display.max_columns', 5)\n",
    "#pd.set_option('display.width', 100)\n",
    "pd.set_option('precision', 5)\n",
    "listing_df.style.highlight_null(null_color='red')\n",
    "availability_df.head(3)\n",
    "availability_df"
   ]
  },
  {
   "cell_type": "code",
   "execution_count": 6,
   "metadata": {},
   "outputs": [
    {
     "data": {
      "text/html": [
       "<div>\n",
       "<style scoped>\n",
       "    .dataframe tbody tr th:only-of-type {\n",
       "        vertical-align: middle;\n",
       "    }\n",
       "\n",
       "    .dataframe tbody tr th {\n",
       "        vertical-align: top;\n",
       "    }\n",
       "\n",
       "    .dataframe thead th {\n",
       "        text-align: right;\n",
       "    }\n",
       "</style>\n",
       "<table border=\"1\" class=\"dataframe\">\n",
       "  <thead>\n",
       "    <tr style=\"text-align: right;\">\n",
       "      <th></th>\n",
       "      <th>listing_id</th>\n",
       "      <th>id</th>\n",
       "      <th>date</th>\n",
       "      <th>reviewer_id</th>\n",
       "      <th>reviewer_name</th>\n",
       "      <th>comments</th>\n",
       "    </tr>\n",
       "  </thead>\n",
       "  <tbody>\n",
       "    <tr>\n",
       "      <th>0</th>\n",
       "      <td>1178162</td>\n",
       "      <td>4724140</td>\n",
       "      <td>5/21/2013</td>\n",
       "      <td>4298113</td>\n",
       "      <td>Olivier</td>\n",
       "      <td>My stay at islam's place was really cool! Good...</td>\n",
       "    </tr>\n",
       "    <tr>\n",
       "      <th>1</th>\n",
       "      <td>1178162</td>\n",
       "      <td>4869189</td>\n",
       "      <td>5/29/2013</td>\n",
       "      <td>6452964</td>\n",
       "      <td>Charlotte</td>\n",
       "      <td>Great location for both airport and city - gre...</td>\n",
       "    </tr>\n",
       "    <tr>\n",
       "      <th>2</th>\n",
       "      <td>1178162</td>\n",
       "      <td>5003196</td>\n",
       "      <td>6/6/2013</td>\n",
       "      <td>6449554</td>\n",
       "      <td>Sebastian</td>\n",
       "      <td>We really enjoyed our stay at Islams house. Fr...</td>\n",
       "    </tr>\n",
       "  </tbody>\n",
       "</table>\n",
       "</div>"
      ],
      "text/plain": [
       "   listing_id       id       date  reviewer_id reviewer_name  \\\n",
       "0     1178162  4724140  5/21/2013      4298113       Olivier   \n",
       "1     1178162  4869189  5/29/2013      6452964     Charlotte   \n",
       "2     1178162  5003196   6/6/2013      6449554     Sebastian   \n",
       "\n",
       "                                            comments  \n",
       "0  My stay at islam's place was really cool! Good...  \n",
       "1  Great location for both airport and city - gre...  \n",
       "2  We really enjoyed our stay at Islams house. Fr...  "
      ]
     },
     "execution_count": 6,
     "metadata": {},
     "output_type": "execute_result"
    }
   ],
   "source": [
    "# Review data\n",
    "# Show number of row and columns.Display the data table for preview. Used head() to get the three rows\n",
    "review_df = pd.read_csv(review_data_to_load)\n",
    "review_df.shape\n",
    "pd.option_context('display.colheader_justify','left')\n",
    "review_df.style.set_properties(**{'text-align': 'left'})\n",
    "review_df.head(3)"
   ]
  },
  {
   "cell_type": "code",
   "execution_count": 80,
   "metadata": {},
   "outputs": [
    {
     "data": {
      "text/plain": [
       "Index(['listing_id', 'minimum_nights', 'host_response_rate', 'host_acceptance_rate', 'price', 'host_response_time'], dtype='object')"
      ]
     },
     "execution_count": 80,
     "metadata": {},
     "output_type": "execute_result"
    }
   ],
   "source": [
    "listing_df.columns"
   ]
  },
  {
   "cell_type": "markdown",
   "metadata": {},
   "source": [
    "## TRANSFORM: Cleaning and Merging "
   ]
  },
  {
   "cell_type": "code",
   "execution_count": 7,
   "metadata": {},
   "outputs": [],
   "source": [
    "# Listing data.\n",
    "# Show number of row and columns.\n",
    "# Show stats.\n",
    "# Removing Replace NaN with zero. unnecssary columns, standardizing column names, and creating a new df"
   ]
  },
  {
   "cell_type": "code",
   "execution_count": 97,
   "metadata": {},
   "outputs": [
    {
     "data": {
      "text/html": [
       "<div>\n",
       "<style scoped>\n",
       "    .dataframe tbody tr th:only-of-type {\n",
       "        vertical-align: middle;\n",
       "    }\n",
       "\n",
       "    .dataframe tbody tr th {\n",
       "        vertical-align: top;\n",
       "    }\n",
       "\n",
       "    .dataframe thead th {\n",
       "        text-align: right;\n",
       "    }\n",
       "</style>\n",
       "<table border=\"1\" class=\"dataframe\">\n",
       "  <thead>\n",
       "    <tr style=\"text-align: right;\">\n",
       "      <th></th>\n",
       "      <th>listing_id</th>\n",
       "      <th>minimum_nights</th>\n",
       "      <th>host_response_rate</th>\n",
       "      <th>host_acceptance_rate</th>\n",
       "      <th>price</th>\n",
       "      <th>host_response_time</th>\n",
       "    </tr>\n",
       "  </thead>\n",
       "  <tbody>\n",
       "    <tr>\n",
       "      <th>0</th>\n",
       "      <td>12147973</td>\n",
       "      <td>2</td>\n",
       "      <td>NaN</td>\n",
       "      <td>NaN</td>\n",
       "      <td>$250.00</td>\n",
       "      <td>NaN</td>\n",
       "    </tr>\n",
       "    <tr>\n",
       "      <th>1</th>\n",
       "      <td>3075044</td>\n",
       "      <td>2</td>\n",
       "      <td>100%</td>\n",
       "      <td>100%</td>\n",
       "      <td>$65.00</td>\n",
       "      <td>within an hour</td>\n",
       "    </tr>\n",
       "    <tr>\n",
       "      <th>2</th>\n",
       "      <td>6976</td>\n",
       "      <td>3</td>\n",
       "      <td>100%</td>\n",
       "      <td>88%</td>\n",
       "      <td>$65.00</td>\n",
       "      <td>within a few hours</td>\n",
       "    </tr>\n",
       "    <tr>\n",
       "      <th>3</th>\n",
       "      <td>1436513</td>\n",
       "      <td>1</td>\n",
       "      <td>100%</td>\n",
       "      <td>50%</td>\n",
       "      <td>$75.00</td>\n",
       "      <td>within a few hours</td>\n",
       "    </tr>\n",
       "    <tr>\n",
       "      <th>4</th>\n",
       "      <td>7651065</td>\n",
       "      <td>2</td>\n",
       "      <td>100%</td>\n",
       "      <td>100%</td>\n",
       "      <td>$79.00</td>\n",
       "      <td>within an hour</td>\n",
       "    </tr>\n",
       "  </tbody>\n",
       "</table>\n",
       "</div>"
      ],
      "text/plain": [
       "   listing_id  minimum_nights host_response_rate host_acceptance_rate     price  host_response_time\n",
       "0    12147973               2                NaN                  NaN  $250.00                  NaN\n",
       "1     3075044               2               100%                 100%   $65.00       within an hour\n",
       "2        6976               3               100%                  88%   $65.00   within a few hours\n",
       "3     1436513               1               100%                  50%   $75.00   within a few hours\n",
       "4     7651065               2               100%                 100%   $79.00       within an hour"
      ]
     },
     "execution_count": 97,
     "metadata": {},
     "output_type": "execute_result"
    }
   ],
   "source": [
    "listing_df = listing_df[[\"listing_id\",\"minimum_nights\",\"host_response_rate\",\"host_acceptance_rate\",\"price\",\"host_response_time\"]]\n",
    "listing_df.head(5)"
   ]
  },
  {
   "cell_type": "code",
   "execution_count": 9,
   "metadata": {},
   "outputs": [
    {
     "data": {
      "text/html": [
       "<div>\n",
       "<style scoped>\n",
       "    .dataframe tbody tr th:only-of-type {\n",
       "        vertical-align: middle;\n",
       "    }\n",
       "\n",
       "    .dataframe tbody tr th {\n",
       "        vertical-align: top;\n",
       "    }\n",
       "\n",
       "    .dataframe thead th {\n",
       "        text-align: right;\n",
       "    }\n",
       "</style>\n",
       "<table border=\"1\" class=\"dataframe\">\n",
       "  <thead>\n",
       "    <tr style=\"text-align: right;\">\n",
       "      <th></th>\n",
       "      <th>listing_id</th>\n",
       "      <th>date_x</th>\n",
       "      <th>available</th>\n",
       "      <th>price_x</th>\n",
       "      <th>minimum_nights</th>\n",
       "      <th>...</th>\n",
       "      <th>id</th>\n",
       "      <th>date_y</th>\n",
       "      <th>reviewer_id</th>\n",
       "      <th>reviewer_name</th>\n",
       "      <th>comments</th>\n",
       "    </tr>\n",
       "  </thead>\n",
       "  <tbody>\n",
       "    <tr>\n",
       "      <th>0</th>\n",
       "      <td>3075044</td>\n",
       "      <td>8/22/2017</td>\n",
       "      <td>t</td>\n",
       "      <td>$65.00</td>\n",
       "      <td>2</td>\n",
       "      <td>...</td>\n",
       "      <td>13631717</td>\n",
       "      <td>6/1/2014</td>\n",
       "      <td>9645972</td>\n",
       "      <td>Dmitrii</td>\n",
       "      <td>Andrea is a great host. Neighborhood is wonder...</td>\n",
       "    </tr>\n",
       "    <tr>\n",
       "      <th>...</th>\n",
       "      <td>...</td>\n",
       "      <td>...</td>\n",
       "      <td>...</td>\n",
       "      <td>...</td>\n",
       "      <td>...</td>\n",
       "      <td>...</td>\n",
       "      <td>...</td>\n",
       "      <td>...</td>\n",
       "      <td>...</td>\n",
       "      <td>...</td>\n",
       "      <td>...</td>\n",
       "    </tr>\n",
       "    <tr>\n",
       "      <th>4</th>\n",
       "      <td>3075044</td>\n",
       "      <td>8/22/2017</td>\n",
       "      <td>t</td>\n",
       "      <td>$65.00</td>\n",
       "      <td>2</td>\n",
       "      <td>...</td>\n",
       "      <td>20322887</td>\n",
       "      <td>9/27/2014</td>\n",
       "      <td>21706950</td>\n",
       "      <td>Xinny</td>\n",
       "      <td>Me and my friend were so happy about Andrea's ...</td>\n",
       "    </tr>\n",
       "  </tbody>\n",
       "</table>\n",
       "<p>5 rows × 14 columns</p>\n",
       "</div>"
      ],
      "text/plain": [
       "    listing_id     date_x available  price_x  minimum_nights  \\\n",
       "0      3075044  8/22/2017         t  $65.00                2   \n",
       "..         ...        ...       ...      ...             ...   \n",
       "4      3075044  8/22/2017         t  $65.00                2   \n",
       "\n",
       "                          ...                                id     date_y reviewer_id  \\\n",
       "0                         ...                          13631717   6/1/2014     9645972   \n",
       "..                        ...                               ...        ...         ...   \n",
       "4                         ...                          20322887  9/27/2014    21706950   \n",
       "\n",
       "   reviewer_name                                           comments  \n",
       "0        Dmitrii  Andrea is a great host. Neighborhood is wonder...  \n",
       "..           ...                                                ...  \n",
       "4          Xinny  Me and my friend were so happy about Andrea's ...  \n",
       "\n",
       "[5 rows x 14 columns]"
      ]
     },
     "execution_count": 9,
     "metadata": {},
     "output_type": "execute_result"
    }
   ],
   "source": [
    "#merge_table.head(5)\n",
    "# Combine the data into a single dataset\n",
    "    #used the pd.merge merge DataFrame city_pd and ride_pd based on the common list city \n",
    "    #ALso, used how left based on result table needed and also specified how as left\n",
    "    #Used head() to get the five rows\n",
    "mergeal_table = pd.merge(availability_df,listing_df,how=\"inner\",on=[\"listing_id\",\"listing_id\"])\n",
    "mergealr_table = pd.merge(mergeal_table,review_df,how=\"inner\",on=[\"listing_id\",\"listing_id\"])\n",
    "# Display the data table for preview\n",
    "mergealr_table.head(5)\n",
    "#mergealr_table"
   ]
  },
  {
   "cell_type": "code",
   "execution_count": 91,
   "metadata": {},
   "outputs": [],
   "source": [
    "mergealr_table['latitude']=listing['latitude']\n",
    "mergealr_table['longitude']=listing['longitude']"
   ]
  },
  {
   "cell_type": "code",
   "execution_count": null,
   "metadata": {},
   "outputs": [],
   "source": []
  },
  {
   "cell_type": "code",
   "execution_count": 92,
   "metadata": {},
   "outputs": [
    {
     "data": {
      "text/plain": [
       "Index(['listing_id', 'date_x', 'available', 'price_x($)', 'minimum_nights', 'host_response_rate(%)', 'host_acceptance_rate(%)', 'host_response_time', 'reviewer_id', 'reviewer_name', 'latitude', 'longitude'], dtype='object')"
      ]
     },
     "execution_count": 92,
     "metadata": {},
     "output_type": "execute_result"
    }
   ],
   "source": [
    "mergealr_table.columns"
   ]
  },
  {
   "cell_type": "code",
   "execution_count": 11,
   "metadata": {
    "scrolled": true
   },
   "outputs": [
    {
     "data": {
      "text/html": [
       "<div>\n",
       "<style scoped>\n",
       "    .dataframe tbody tr th:only-of-type {\n",
       "        vertical-align: middle;\n",
       "    }\n",
       "\n",
       "    .dataframe tbody tr th {\n",
       "        vertical-align: top;\n",
       "    }\n",
       "\n",
       "    .dataframe thead th {\n",
       "        text-align: right;\n",
       "    }\n",
       "</style>\n",
       "<table border=\"1\" class=\"dataframe\">\n",
       "  <thead>\n",
       "    <tr style=\"text-align: right;\">\n",
       "      <th></th>\n",
       "      <th>listing_id</th>\n",
       "      <th>minimum_nights</th>\n",
       "      <th>id</th>\n",
       "      <th>reviewer_id</th>\n",
       "    </tr>\n",
       "  </thead>\n",
       "  <tbody>\n",
       "    <tr>\n",
       "      <th>count</th>\n",
       "      <td>2.08138e+07</td>\n",
       "      <td>2.08138e+07</td>\n",
       "      <td>2.08138e+07</td>\n",
       "      <td>2.08138e+07</td>\n",
       "    </tr>\n",
       "    <tr>\n",
       "      <th>mean</th>\n",
       "      <td>4.61569e+06</td>\n",
       "      <td>2.18390e+00</td>\n",
       "      <td>5.14791e+07</td>\n",
       "      <td>2.73901e+07</td>\n",
       "    </tr>\n",
       "    <tr>\n",
       "      <th>std</th>\n",
       "      <td>3.80190e+06</td>\n",
       "      <td>4.10347e+00</td>\n",
       "      <td>2.81472e+07</td>\n",
       "      <td>2.22153e+07</td>\n",
       "    </tr>\n",
       "    <tr>\n",
       "      <th>min</th>\n",
       "      <td>5.50600e+03</td>\n",
       "      <td>1.00000e+00</td>\n",
       "      <td>1.02100e+03</td>\n",
       "      <td>1.43000e+02</td>\n",
       "    </tr>\n",
       "    <tr>\n",
       "      <th>25%</th>\n",
       "      <td>1.22305e+06</td>\n",
       "      <td>1.00000e+00</td>\n",
       "      <td>2.83427e+07</td>\n",
       "      <td>8.52966e+06</td>\n",
       "    </tr>\n",
       "    <tr>\n",
       "      <th>50%</th>\n",
       "      <td>3.96953e+06</td>\n",
       "      <td>2.00000e+00</td>\n",
       "      <td>5.13218e+07</td>\n",
       "      <td>2.22434e+07</td>\n",
       "    </tr>\n",
       "    <tr>\n",
       "      <th>75%</th>\n",
       "      <td>7.28188e+06</td>\n",
       "      <td>2.00000e+00</td>\n",
       "      <td>7.61251e+07</td>\n",
       "      <td>4.12866e+07</td>\n",
       "    </tr>\n",
       "    <tr>\n",
       "      <th>max</th>\n",
       "      <td>1.48237e+07</td>\n",
       "      <td>3.00000e+02</td>\n",
       "      <td>9.99905e+07</td>\n",
       "      <td>9.32760e+07</td>\n",
       "    </tr>\n",
       "  </tbody>\n",
       "</table>\n",
       "</div>"
      ],
      "text/plain": [
       "        listing_id  minimum_nights           id  reviewer_id\n",
       "count  2.08138e+07     2.08138e+07  2.08138e+07  2.08138e+07\n",
       "mean   4.61569e+06     2.18390e+00  5.14791e+07  2.73901e+07\n",
       "std    3.80190e+06     4.10347e+00  2.81472e+07  2.22153e+07\n",
       "min    5.50600e+03     1.00000e+00  1.02100e+03  1.43000e+02\n",
       "25%    1.22305e+06     1.00000e+00  2.83427e+07  8.52966e+06\n",
       "50%    3.96953e+06     2.00000e+00  5.13218e+07  2.22434e+07\n",
       "75%    7.28188e+06     2.00000e+00  7.61251e+07  4.12866e+07\n",
       "max    1.48237e+07     3.00000e+02  9.99905e+07  9.32760e+07"
      ]
     },
     "execution_count": 11,
     "metadata": {},
     "output_type": "execute_result"
    }
   ],
   "source": [
    "#pd.set_option('display.expand_frame_repr', False)\n",
    "pd.set_option('display.max_rows', 500)\n",
    "pd.set_option('display.max_columns', 500)\n",
    "pd.set_option('display.width', 1000)\n",
    "mergealr_table.describe()"
   ]
  },
  {
   "cell_type": "code",
   "execution_count": 12,
   "metadata": {},
   "outputs": [],
   "source": [
    "#Rename column to show the units such as % or $\n",
    "#df.rename(index=str, columns={\"A\": \"a\", \"C\": \"c\"})\n",
    "mergealr_table = mergealr_table.rename(index=str, columns={\n",
    "    \"price_x\": \"price_x($)\",\n",
    "    \"host_response_rate\": \"host_response_rate(%)\",\n",
    "    \"host_acceptance_rate\": \"host_acceptance_rate(%)\"})"
   ]
  },
  {
   "cell_type": "code",
   "execution_count": 96,
   "metadata": {},
   "outputs": [
    {
     "data": {
      "text/plain": [
       "0    65.0\n",
       "1    65.0\n",
       "2    65.0\n",
       "3    65.0\n",
       "4    65.0\n",
       "Name: price_x($), dtype: float64"
      ]
     },
     "execution_count": 96,
     "metadata": {},
     "output_type": "execute_result"
    }
   ],
   "source": [
    "#Identify missin values. Note after the dataframe was created the blanks were assigned a NaN value\n",
    "mergealr_table[\"price_x($)\"].head(5)"
   ]
  },
  {
   "cell_type": "code",
   "execution_count": 14,
   "metadata": {},
   "outputs": [],
   "source": [
    "#Fill the NaN with avergae value of the rest of the data and i.e. is $209. The command below to replace did not work for somw reason\n",
    "#mergealr_table[\"price_x($)\"] = mergealr_table[\"price_x($)\"].replace(r'^\\s+$', 208, regex=True)\n",
    "mergealr_table['price_x($)'] = mergealr_table['price_x($)'].fillna(209)"
   ]
  },
  {
   "cell_type": "code",
   "execution_count": 95,
   "metadata": {
    "scrolled": true
   },
   "outputs": [
    {
     "data": {
      "text/plain": [
       "0    65.0\n",
       "1    65.0\n",
       "2    65.0\n",
       "3    65.0\n",
       "4    65.0\n",
       "Name: price_x($), dtype: float64"
      ]
     },
     "execution_count": 95,
     "metadata": {},
     "output_type": "execute_result"
    }
   ],
   "source": [
    "#Verified that the values got replaced\n",
    "#mergealr_table[\"price_x\"].tolist()\n",
    "mergealr_table[\"price_x($)\"].head(5)"
   ]
  },
  {
   "cell_type": "code",
   "execution_count": 98,
   "metadata": {
    "scrolled": true
   },
   "outputs": [
    {
     "data": {
      "text/plain": [
       "0    100.0\n",
       "1    100.0\n",
       "2    100.0\n",
       "3    100.0\n",
       "4    100.0\n",
       "Name: host_acceptance_rate(%), dtype: float64"
      ]
     },
     "execution_count": 98,
     "metadata": {},
     "output_type": "execute_result"
    }
   ],
   "source": [
    "#Identify if host_acceptance_rate(%) has blanks or NaN  \n",
    "mergealr_table['host_acceptance_rate(%)'].head(5)"
   ]
  },
  {
   "cell_type": "code",
   "execution_count": 17,
   "metadata": {
    "scrolled": true
   },
   "outputs": [],
   "source": [
    "# Replace the blanks with average of the rest of the values which is 50%\n",
    "mergealr_table['host_acceptance_rate(%)'] = mergealr_table['host_acceptance_rate(%)'].fillna(50)"
   ]
  },
  {
   "cell_type": "code",
   "execution_count": 101,
   "metadata": {
    "scrolled": true
   },
   "outputs": [
    {
     "data": {
      "text/plain": [
       "0    100.0\n",
       "1    100.0\n",
       "2    100.0\n",
       "Name: host_acceptance_rate(%), dtype: float64"
      ]
     },
     "execution_count": 101,
     "metadata": {},
     "output_type": "execute_result"
    }
   ],
   "source": [
    "#Verify if the blanks are filled in with 50%\n",
    "mergealr_table['host_acceptance_rate(%)'].head(3)"
   ]
  },
  {
   "cell_type": "code",
   "execution_count": 102,
   "metadata": {},
   "outputs": [
    {
     "data": {
      "text/plain": [
       "0    100.0\n",
       "1    100.0\n",
       "2    100.0\n",
       "3    100.0\n",
       "4    100.0\n",
       "Name: host_response_rate(%), dtype: float64"
      ]
     },
     "execution_count": 102,
     "metadata": {},
     "output_type": "execute_result"
    }
   ],
   "source": [
    "#Identify if host_response_rate(%) has blanks or NaN  \n",
    "mergealr_table['host_response_rate(%)'].head(5)"
   ]
  },
  {
   "cell_type": "code",
   "execution_count": 20,
   "metadata": {
    "scrolled": true
   },
   "outputs": [],
   "source": [
    "# Replace the blanks with average of the rest of the values which is 95%\n",
    "mergealr_table['host_response_rate(%)'] = mergealr_table['host_response_rate(%)'].fillna(95)"
   ]
  },
  {
   "cell_type": "code",
   "execution_count": 103,
   "metadata": {},
   "outputs": [
    {
     "data": {
      "text/plain": [
       "0    100.0\n",
       "1    100.0\n",
       "2    100.0\n",
       "3    100.0\n",
       "4    100.0\n",
       "Name: host_response_rate(%), dtype: float64"
      ]
     },
     "execution_count": 103,
     "metadata": {},
     "output_type": "execute_result"
    }
   ],
   "source": [
    "#Verify if the blanks are filled in with 50%\n",
    "mergealr_table['host_response_rate(%)'].head(5)"
   ]
  },
  {
   "cell_type": "code",
   "execution_count": 22,
   "metadata": {},
   "outputs": [],
   "source": [
    "#Change or strip the % as a float type for host_acceptance_rate(%) and host_response_rate(%)\n",
    "mergealr_table['host_acceptance_rate(%)'] = mergealr_table['host_acceptance_rate(%)'].str.rstrip('%').astype('float')"
   ]
  },
  {
   "cell_type": "code",
   "execution_count": 23,
   "metadata": {},
   "outputs": [],
   "source": [
    "#mergealr_table['price_x($)'] = mergealr_table['price_x($)'].str.rstrip('$').astype('float')\n",
    "mergealr_table['price_x($)'] = mergealr_table['price_x($)'].str.replace('$', '')\n",
    "mergealr_table['price_x($)'] = mergealr_table['price_x($)'].str.replace(',', '')"
   ]
  },
  {
   "cell_type": "code",
   "execution_count": 24,
   "metadata": {},
   "outputs": [],
   "source": [
    "mergealr_table['price_x($)'] = mergealr_table['price_x($)'].astype('float')"
   ]
  },
  {
   "cell_type": "code",
   "execution_count": 25,
   "metadata": {
    "scrolled": true
   },
   "outputs": [
    {
     "data": {
      "image/png": "[encoded data removed]",
      "text/plain": [
       "<Figure size 432x288 with 1 Axes>"
      ]
     },
     "metadata": {
      "needs_background": "light"
     },
     "output_type": "display_data"
    }
   ],
   "source": [
    "price=mergealr_table['price_x($)']\n",
    "host_acceptance_rate=mergealr_table['host_acceptance_rate(%)']\n",
    "plt.scatter(host_acceptance_rate, price)\n",
    "plt.show()"
   ]
  },
  {
   "cell_type": "code",
   "execution_count": 26,
   "metadata": {},
   "outputs": [],
   "source": [
    "#mergealr_table['host_response_time']"
   ]
  },
  {
   "cell_type": "code",
   "execution_count": 27,
   "metadata": {},
   "outputs": [
    {
     "data": {
      "text/html": [
       "<div>\n",
       "<style scoped>\n",
       "    .dataframe tbody tr th:only-of-type {\n",
       "        vertical-align: middle;\n",
       "    }\n",
       "\n",
       "    .dataframe tbody tr th {\n",
       "        vertical-align: top;\n",
       "    }\n",
       "\n",
       "    .dataframe thead th {\n",
       "        text-align: right;\n",
       "    }\n",
       "</style>\n",
       "<table border=\"1\" class=\"dataframe\">\n",
       "  <thead>\n",
       "    <tr style=\"text-align: right;\">\n",
       "      <th></th>\n",
       "      <th>listing_id</th>\n",
       "      <th>date_x</th>\n",
       "      <th>available</th>\n",
       "      <th>price_x($)</th>\n",
       "      <th>minimum_nights</th>\n",
       "      <th>host_response_rate(%)</th>\n",
       "      <th>host_acceptance_rate(%)</th>\n",
       "      <th>price_y</th>\n",
       "      <th>id</th>\n",
       "      <th>date_y</th>\n",
       "      <th>reviewer_id</th>\n",
       "      <th>reviewer_name</th>\n",
       "      <th>comments</th>\n",
       "    </tr>\n",
       "    <tr>\n",
       "      <th>host_response_time</th>\n",
       "      <th></th>\n",
       "      <th></th>\n",
       "      <th></th>\n",
       "      <th></th>\n",
       "      <th></th>\n",
       "      <th></th>\n",
       "      <th></th>\n",
       "      <th></th>\n",
       "      <th></th>\n",
       "      <th></th>\n",
       "      <th></th>\n",
       "      <th></th>\n",
       "      <th></th>\n",
       "    </tr>\n",
       "  </thead>\n",
       "  <tbody>\n",
       "    <tr>\n",
       "      <th>a few days or more</th>\n",
       "      <td>68255</td>\n",
       "      <td>68255</td>\n",
       "      <td>68255</td>\n",
       "      <td>41058</td>\n",
       "      <td>68255</td>\n",
       "      <td>68255</td>\n",
       "      <td>68255</td>\n",
       "      <td>68255</td>\n",
       "      <td>68255</td>\n",
       "      <td>68255</td>\n",
       "      <td>68255</td>\n",
       "      <td>68255</td>\n",
       "      <td>68255</td>\n",
       "    </tr>\n",
       "    <tr>\n",
       "      <th>within a day</th>\n",
       "      <td>2104590</td>\n",
       "      <td>2104590</td>\n",
       "      <td>2104590</td>\n",
       "      <td>1276800</td>\n",
       "      <td>2104590</td>\n",
       "      <td>2104590</td>\n",
       "      <td>2104590</td>\n",
       "      <td>2104590</td>\n",
       "      <td>2104590</td>\n",
       "      <td>2104590</td>\n",
       "      <td>2104590</td>\n",
       "      <td>2104590</td>\n",
       "      <td>2103130</td>\n",
       "    </tr>\n",
       "    <tr>\n",
       "      <th>within a few hours</th>\n",
       "      <td>5588880</td>\n",
       "      <td>5588880</td>\n",
       "      <td>5588880</td>\n",
       "      <td>3161168</td>\n",
       "      <td>5588880</td>\n",
       "      <td>5588880</td>\n",
       "      <td>5588880</td>\n",
       "      <td>5588880</td>\n",
       "      <td>5588880</td>\n",
       "      <td>5588880</td>\n",
       "      <td>5588880</td>\n",
       "      <td>5588880</td>\n",
       "      <td>5585230</td>\n",
       "    </tr>\n",
       "    <tr>\n",
       "      <th>within an hour</th>\n",
       "      <td>12703890</td>\n",
       "      <td>12703890</td>\n",
       "      <td>12703890</td>\n",
       "      <td>8438298</td>\n",
       "      <td>12703890</td>\n",
       "      <td>12703890</td>\n",
       "      <td>12703890</td>\n",
       "      <td>12703890</td>\n",
       "      <td>12703890</td>\n",
       "      <td>12703890</td>\n",
       "      <td>12703890</td>\n",
       "      <td>12703890</td>\n",
       "      <td>12693670</td>\n",
       "    </tr>\n",
       "  </tbody>\n",
       "</table>\n",
       "</div>"
      ],
      "text/plain": [
       "                    listing_id    date_x  available  price_x($)  minimum_nights  host_response_rate(%)  host_acceptance_rate(%)   price_y        id    date_y  reviewer_id  reviewer_name  comments\n",
       "host_response_time                                                                                                                                                                                 \n",
       "a few days or more       68255     68255      68255       41058           68255                  68255                    68255     68255     68255     68255        68255          68255     68255\n",
       "within a day           2104590   2104590    2104590     1276800         2104590                2104590                  2104590   2104590   2104590   2104590      2104590        2104590   2103130\n",
       "within a few hours     5588880   5588880    5588880     3161168         5588880                5588880                  5588880   5588880   5588880   5588880      5588880        5588880   5585230\n",
       "within an hour        12703890  12703890   12703890     8438298        12703890               12703890                 12703890  12703890  12703890  12703890     12703890       12703890  12693670"
      ]
     },
     "execution_count": 27,
     "metadata": {},
     "output_type": "execute_result"
    }
   ],
   "source": [
    "y_pos=mergealr_table.groupby(['host_response_time']).count()\n",
    "y_pos"
   ]
  },
  {
   "cell_type": "code",
   "execution_count": 28,
   "metadata": {
    "scrolled": true
   },
   "outputs": [],
   "source": [
    "No_of_reservation=y_pos[\"listing_id\"]\n",
    "x=y_pos.index"
   ]
  },
  {
   "cell_type": "code",
   "execution_count": 29,
   "metadata": {},
   "outputs": [],
   "source": [
    "# Replace the blanks with average of the rest of the values which is 50%\n",
    "mergealr_table['listing_id'] = mergealr_table['listing_id'].fillna(1234)"
   ]
  },
  {
   "cell_type": "code",
   "execution_count": 30,
   "metadata": {},
   "outputs": [
    {
     "data": {
      "text/plain": [
       "<function matplotlib.pyplot.show(*args, **kw)>"
      ]
     },
     "execution_count": 30,
     "metadata": {},
     "output_type": "execute_result"
    },
    {
     "data": {
      "image/png": "[encoded data removed]",
      "text/plain": [
       "<Figure size 432x288 with 1 Axes>"
      ]
     },
     "metadata": {
      "needs_background": "light"
     },
     "output_type": "display_data"
    }
   ],
   "source": [
    "#host_response_time=mergealr_table['host_response_time']\n",
    "#host_response_time = ('within an hour', 'within a few hours', 'within a day', 'a few days or more')\n",
    "#y_poss = np.arange(len(host_response_time))\n",
    "#y_pos = groupby(mergealr_table['host_response_time']).count()\n",
    " \n",
    "plt.bar(x,No_of_reservation,align='center', alpha=0.5)\n",
    "#plt.xticks(y_pos, host_response_time)\n",
    "plt.ylabel('No. of Reservations')\n",
    "plt.title('host_response_time')\n",
    "#price=mergealr_table['price_x($)']\n",
    "#plt.bar(host_response_time,price)\n",
    "plt.show"
   ]
  },
  {
   "cell_type": "code",
   "execution_count": 31,
   "metadata": {},
   "outputs": [],
   "source": [
    "mergealr_table['host_response_rate(%)'] = mergealr_table['host_response_rate(%)'].str.rstrip('%').astype('float')"
   ]
  },
  {
   "cell_type": "code",
   "execution_count": 32,
   "metadata": {},
   "outputs": [
    {
     "data": {
      "image/png": "[encoded data removed]",
      "text/plain": [
       "<Figure size 432x288 with 1 Axes>"
      ]
     },
     "metadata": {
      "needs_background": "light"
     },
     "output_type": "display_data"
    }
   ],
   "source": [
    "price=mergealr_table['price_x($)']\n",
    "host_response_rate=mergealr_table['host_response_rate(%)']\n",
    "plt.scatter(host_response_rate, price)\n",
    "plt.show()"
   ]
  },
  {
   "cell_type": "code",
   "execution_count": 60,
   "metadata": {},
   "outputs": [
    {
     "data": {
      "text/plain": [
       "Index(['listing_id', 'date_x', 'available', 'price_x($)', 'minimum_nights', 'host_response_rate(%)', 'host_acceptance_rate(%)', 'host_response_time', 'reviewer_id', 'reviewer_name'], dtype='object')"
      ]
     },
     "execution_count": 60,
     "metadata": {},
     "output_type": "execute_result"
    }
   ],
   "source": [
    "mergealr_table.columns"
   ]
  },
  {
   "cell_type": "code",
   "execution_count": null,
   "metadata": {},
   "outputs": [],
   "source": [
    "mergealr_table.add"
   ]
  },
  {
   "cell_type": "markdown",
   "metadata": {},
   "source": [
    "## LOADING \n"
   ]
  },
  {
   "cell_type": "raw",
   "metadata": {},
   "source": [
    "df.to_csv(file_name, sep='\\t', encoding='utf-8')"
   ]
  },
  {
   "cell_type": "code",
   "execution_count": 67,
   "metadata": {
    "scrolled": true
   },
   "outputs": [
    {
     "data": {
      "text/plain": [
       "listing_id                 False\n",
       "date_x                     False\n",
       "available                  False\n",
       "price_x($)                 False\n",
       "minimum_nights             False\n",
       "host_response_rate(%)      False\n",
       "host_acceptance_rate(%)    False\n",
       "host_response_time         False\n",
       "reviewer_id                False\n",
       "reviewer_name              False\n",
       "dtype: bool"
      ]
     },
     "execution_count": 67,
     "metadata": {},
     "output_type": "execute_result"
    }
   ],
   "source": [
    "mergealr_table.isnull().any()"
   ]
  },
  {
   "cell_type": "code",
   "execution_count": 41,
   "metadata": {},
   "outputs": [],
   "source": [
    "#mergealr_table = mergealr_table[np.isfinite(mergealr_table['price_x($)'])]"
   ]
  },
  {
   "cell_type": "code",
   "execution_count": 42,
   "metadata": {},
   "outputs": [],
   "source": [
    "#mergealr_table = mergealr_table[np.isfinite(mergealr_table['host_response_rate(%)'])]"
   ]
  },
  {
   "cell_type": "code",
   "execution_count": 68,
   "metadata": {},
   "outputs": [],
   "source": [
    "#mergealr_table=mergealr_table.drop('minimum_nights', axis=1).drop('reviewer_id', axis=1).drop('comments', axis=1).drop('comments', axis=1).drop('reviewer_name', axis=1).drop('host_response_time', axis=1)"
   ]
  },
  {
   "cell_type": "code",
   "execution_count": 104,
   "metadata": {},
   "outputs": [
    {
     "data": {
      "text/html": [
       "<div>\n",
       "<style scoped>\n",
       "    .dataframe tbody tr th:only-of-type {\n",
       "        vertical-align: middle;\n",
       "    }\n",
       "\n",
       "    .dataframe tbody tr th {\n",
       "        vertical-align: top;\n",
       "    }\n",
       "\n",
       "    .dataframe thead th {\n",
       "        text-align: right;\n",
       "    }\n",
       "</style>\n",
       "<table border=\"1\" class=\"dataframe\">\n",
       "  <thead>\n",
       "    <tr style=\"text-align: right;\">\n",
       "      <th></th>\n",
       "      <th>listing_id</th>\n",
       "      <th>date_x</th>\n",
       "      <th>available</th>\n",
       "      <th>price_x($)</th>\n",
       "      <th>minimum_nights</th>\n",
       "      <th>host_response_rate(%)</th>\n",
       "      <th>host_acceptance_rate(%)</th>\n",
       "      <th>host_response_time</th>\n",
       "      <th>reviewer_id</th>\n",
       "      <th>reviewer_name</th>\n",
       "      <th>latitude</th>\n",
       "      <th>longitude</th>\n",
       "    </tr>\n",
       "  </thead>\n",
       "  <tbody>\n",
       "    <tr>\n",
       "      <th>0</th>\n",
       "      <td>3075044</td>\n",
       "      <td>8/22/2017</td>\n",
       "      <td>t</td>\n",
       "      <td>65.0</td>\n",
       "      <td>2</td>\n",
       "      <td>100.0</td>\n",
       "      <td>100.0</td>\n",
       "      <td>within an hour</td>\n",
       "      <td>9645972</td>\n",
       "      <td>Dmitrii</td>\n",
       "      <td>NaN</td>\n",
       "      <td>NaN</td>\n",
       "    </tr>\n",
       "    <tr>\n",
       "      <th>1</th>\n",
       "      <td>3075044</td>\n",
       "      <td>8/22/2017</td>\n",
       "      <td>t</td>\n",
       "      <td>65.0</td>\n",
       "      <td>2</td>\n",
       "      <td>100.0</td>\n",
       "      <td>100.0</td>\n",
       "      <td>within an hour</td>\n",
       "      <td>12020681</td>\n",
       "      <td>Paola</td>\n",
       "      <td>NaN</td>\n",
       "      <td>NaN</td>\n",
       "    </tr>\n",
       "    <tr>\n",
       "      <th>2</th>\n",
       "      <td>3075044</td>\n",
       "      <td>8/22/2017</td>\n",
       "      <td>t</td>\n",
       "      <td>65.0</td>\n",
       "      <td>2</td>\n",
       "      <td>100.0</td>\n",
       "      <td>100.0</td>\n",
       "      <td>within an hour</td>\n",
       "      <td>8165047</td>\n",
       "      <td>Jaydee</td>\n",
       "      <td>NaN</td>\n",
       "      <td>NaN</td>\n",
       "    </tr>\n",
       "    <tr>\n",
       "      <th>3</th>\n",
       "      <td>3075044</td>\n",
       "      <td>8/22/2017</td>\n",
       "      <td>t</td>\n",
       "      <td>65.0</td>\n",
       "      <td>2</td>\n",
       "      <td>100.0</td>\n",
       "      <td>100.0</td>\n",
       "      <td>within an hour</td>\n",
       "      <td>21319433</td>\n",
       "      <td>Anthony</td>\n",
       "      <td>NaN</td>\n",
       "      <td>NaN</td>\n",
       "    </tr>\n",
       "    <tr>\n",
       "      <th>4</th>\n",
       "      <td>3075044</td>\n",
       "      <td>8/22/2017</td>\n",
       "      <td>t</td>\n",
       "      <td>65.0</td>\n",
       "      <td>2</td>\n",
       "      <td>100.0</td>\n",
       "      <td>100.0</td>\n",
       "      <td>within an hour</td>\n",
       "      <td>21706950</td>\n",
       "      <td>Xinny</td>\n",
       "      <td>NaN</td>\n",
       "      <td>NaN</td>\n",
       "    </tr>\n",
       "  </tbody>\n",
       "</table>\n",
       "</div>"
      ],
      "text/plain": [
       "   listing_id     date_x available  price_x($)  minimum_nights  host_response_rate(%)  host_acceptance_rate(%) host_response_time  reviewer_id reviewer_name  latitude  longitude\n",
       "0     3075044  8/22/2017         t        65.0               2                  100.0                    100.0     within an hour      9645972       Dmitrii       NaN        NaN\n",
       "1     3075044  8/22/2017         t        65.0               2                  100.0                    100.0     within an hour     12020681         Paola       NaN        NaN\n",
       "2     3075044  8/22/2017         t        65.0               2                  100.0                    100.0     within an hour      8165047        Jaydee       NaN        NaN\n",
       "3     3075044  8/22/2017         t        65.0               2                  100.0                    100.0     within an hour     21319433       Anthony       NaN        NaN\n",
       "4     3075044  8/22/2017         t        65.0               2                  100.0                    100.0     within an hour     21706950         Xinny       NaN        NaN"
      ]
     },
     "execution_count": 104,
     "metadata": {},
     "output_type": "execute_result"
    }
   ],
   "source": [
    "mergealr_table.head(5)"
   ]
  },
  {
   "cell_type": "code",
   "execution_count": 58,
   "metadata": {},
   "outputs": [
    {
     "data": {
      "text/plain": [
       "listing_id                 False\n",
       "date_x                     False\n",
       "available                  False\n",
       "price_x($)                 False\n",
       "minimum_nights             False\n",
       "host_response_rate(%)      False\n",
       "host_acceptance_rate(%)    False\n",
       "host_response_time         False\n",
       "reviewer_id                False\n",
       "reviewer_name              False\n",
       "dtype: bool"
      ]
     },
     "execution_count": 58,
     "metadata": {},
     "output_type": "execute_result"
    }
   ],
   "source": [
    "mergealr_table.isnull().any()"
   ]
  },
  {
   "cell_type": "code",
   "execution_count": 71,
   "metadata": {},
   "outputs": [
    {
     "data": {
      "text/plain": [
       "Index(['listing_id', 'date_x', 'available', 'price_x($)', 'minimum_nights', 'host_response_rate(%)', 'host_acceptance_rate(%)', 'host_response_time', 'reviewer_id', 'reviewer_name'], dtype='object')"
      ]
     },
     "execution_count": 71,
     "metadata": {},
     "output_type": "execute_result"
    }
   ],
   "source": [
    "mergealr_table.columns"
   ]
  },
  {
   "cell_type": "code",
   "execution_count": 62,
   "metadata": {},
   "outputs": [
    {
     "data": {
      "text/plain": [
       "listing_id                   int64\n",
       "date_x                      object\n",
       "available                   object\n",
       "price_x($)                 float64\n",
       "minimum_nights               int64\n",
       "host_response_rate(%)      float64\n",
       "host_acceptance_rate(%)    float64\n",
       "host_response_time          object\n",
       "reviewer_id                  int64\n",
       "reviewer_name               object\n",
       "dtype: object"
      ]
     },
     "execution_count": 62,
     "metadata": {},
     "output_type": "execute_result"
    }
   ],
   "source": [
    "mergealr_table.dtypes"
   ]
  },
  {
   "cell_type": "code",
   "execution_count": null,
   "metadata": {},
   "outputs": [],
   "source": [
    "#new_mergealr_table=mergealr_table.head(1000)"
   ]
  },
  {
   "cell_type": "code",
   "execution_count": 78,
   "metadata": {
    "scrolled": false
   },
   "outputs": [],
   "source": [
    "mergealr_table.to_csv(\"mergealr6.csv\", encoding='utf-8')"
   ]
  },
  {
   "cell_type": "markdown",
   "metadata": {},
   "source": [
    "#### Alternate method code is mentioned below"
   ]
  },
  {
   "cell_type": "code",
   "execution_count": null,
   "metadata": {},
   "outputs": [],
   "source": [
    "# import mysql.connector\n",
    "\n",
    "# db = mysql.connector.connect(\n",
    "#    host=\"localhost\",\n",
    "#    user=\"root\",\n",
    "#    passwd=\"xxxxxxxxx\"\n",
    "# )\n",
    "\n",
    "# print(db)"
   ]
  },
  {
   "cell_type": "code",
   "execution_count": null,
   "metadata": {},
   "outputs": [],
   "source": [
    "# import pymysql\n",
    "# conn = pymysql.connect(host='127.0.0.1',\n",
    "#                       port=3306,\n",
    "#                       user='root',\n",
    "#                       passwd='Madhuka1@12',\n",
    "#                       db='ETL_HW',\n",
    "#                       charset='utf8')\n",
    "\n",
    "# mergealr_table.to_sql(name='ETL_HW', con=conn, if_exists = 'replace', index=False)"
   ]
  },
  {
   "cell_type": "code",
   "execution_count": null,
   "metadata": {},
   "outputs": [],
   "source": [
    "# # Creating database connection \n",
    "# ET_key for ET's MySQL access only\n",
    "# connection_string = (\"root:{0}@localhost/mergealr_table\").format(ET_key)\n",
    "# engine = create_engine(f'mysql://{connection_string}')"
   ]
  },
  {
   "cell_type": "code",
   "execution_count": null,
   "metadata": {},
   "outputs": [],
   "source": [
    "# Confirming tables \n",
    "#engine.table_names()"
   ]
  },
  {
   "cell_type": "code",
   "execution_count": null,
   "metadata": {},
   "outputs": [],
   "source": [
    "# Loading dataframes into database\n",
    "#listing.to_sql(name='host_response_rate', con=engine, if_exists='replace', index=True)\n",
    "#listing.to_sql(name='host_acceptance_rate', con=engine, if_exists='replace', index=True)\n",
    "#availbility_Df.to_sql(name='price_x', con=engine, if_exists='replace', index=True)\n"
   ]
  },
  {
   "cell_type": "code",
   "execution_count": null,
   "metadata": {},
   "outputs": [],
   "source": [
    "# Confirming that tables loaded successfully\n",
    "#pd.read_sql(\"select * from price_x limit 3\",con = engine)\n",
    "#pd.read_sql(\"select * from host_response_rate\",con = engine)\n",
    "#pd.read_sql(\"select * from host_acceptance_rate limit 3\",con = engine)"
   ]
  },
  {
   "cell_type": "code",
   "execution_count": null,
   "metadata": {},
   "outputs": [],
   "source": []
  },
  {
   "cell_type": "code",
   "execution_count": null,
   "metadata": {},
   "outputs": [],
   "source": []
  }
 ],
 "metadata": {
  "kernelspec": {
   "display_name": "Python 3",
   "language": "python",
   "name": "python3"
  },
  "language_info": {
   "codemirror_mode": {
    "name": "ipython",
    "version": 3
   },
   "file_extension": ".py",
   "mimetype": "text/x-python",
   "name": "python",
   "nbconvert_exporter": "python",
   "pygments_lexer": "ipython3",
   "version": "3.7.1"
  }
 },
 "nbformat": 4,
 "nbformat_minor": 2
}
